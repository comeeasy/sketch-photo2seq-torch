{
 "cells": [
  {
   "cell_type": "markdown",
   "metadata": {},
   "source": [
    "# import libraries & Load QMUL dataset"
   ]
  },
  {
   "cell_type": "code",
   "execution_count": 2,
   "metadata": {},
   "outputs": [],
   "source": [
    "import torch\n",
    "import torchvision.transforms as transforms\n",
    "import numpy as np\n",
    "\n",
    "from torch.autograd import Variable\n",
    "from PIL import Image\n",
    "\n",
    "from model.model import PixEncoder, SeqDecoder\n",
    "from model.model import PixDecoder, SeqEncoder\n",
    "from config import Config\n",
    "\n",
    "import numpy as np\n",
    "from utils.draw import draw_strokes\n",
    "import h5py\n",
    "\n",
    "import cv2\n",
    "import matplotlib.pyplot as plt"
   ]
  },
  {
   "cell_type": "markdown",
   "metadata": {},
   "source": [
    "# Load trained models"
   ]
  },
  {
   "cell_type": "code",
   "execution_count": 17,
   "metadata": {},
   "outputs": [
    {
     "name": "stdout",
     "output_type": "stream",
     "text": [
      "{'hypers': {'encoder_hidden_size': 256, 'decoder_hidden_size': 512, 'num_layers': 1, 'Nz': 128, 'dropout': 0.9, 'M': 20, 'max_seq_length': 131, 'lr': 0.001, 'eta_min': 0.01, 'batch_size': 512, 'R': 0.95, 'KL_min': 0.2, 'wKL': 0.5, 'lr_decay': 0.9999, 'min_lr': 0.0001, 'grad_clip': 5.0, 'in_channels': 1, 'img_size': 256, 'img_crop': 224, 'pix_enc_hdims': [32, 64, 128, 256, 256], 'pix_dec_hdims': [256, 256, 128, 64, 32]}, 'data': {'quick_draw': '/home/joono/media/MinLab/sketch-photo2seq-torch/datasets/QuickDraw/shoes/npz/shoe.npz', 'qmul_train': None, 'qmul_test': None, 'portrait_npy': None, 'portrait_png': None}, 'train': {'quickdraw': {'epochs': 1000, 'save_iter': 5, 'weights_save': './weights/quickdraw_config4', 'resume': False, 'start_epoch': None}}, 'device': None, 'tensorboard_log': 'runs/quickdraw_config4'}\n",
      " device: cuda\n"
     ]
    },
    {
     "data": {
      "text/plain": [
       "SeqEncoder(\n",
       "  (lstm): LSTM(5, 256, dropout=0.9, bidirectional=True)\n",
       "  (mu): Linear(in_features=512, out_features=128, bias=True)\n",
       "  (sigma): Linear(in_features=512, out_features=128, bias=True)\n",
       ")"
      ]
     },
     "execution_count": 17,
     "metadata": {},
     "output_type": "execute_result"
    }
   ],
   "source": [
    "config_name = \"quickdraw_config4\"\n",
    "\n",
    "config = Config(f\"./configs/{config_name}.yml\").get_config()\n",
    "weight_epoch = 355\n",
    "device = \"cpu\"\n",
    "\n",
    "# pix_enc = PixEncoder(config)\n",
    "# pix_dec = PixDecoder(config)\n",
    "seq_enc = SeqEncoder(config)\n",
    "seq_dec = SeqDecoder(config)\n",
    "\n",
    "# pix_enc.load_state_dict(torch.load(f\"./weights/Portrait/2022-11-19-png-svg-not-matched/pix_enc_{weight_epoch}.pt\", map_location=device))\n",
    "# pix_dec.load_state_dict(torch.load(f\"./weights/Portrait/2022-11-19-png-svg-not-matched/pix_dec_{weight_epoch}.pt\", map_location=device))\n",
    "seq_enc.load_state_dict(torch.load(f\"./weights/{config_name}/seq_enc_{weight_epoch}.pt\", map_location=device))\n",
    "seq_dec.load_state_dict(torch.load(f\"./weights/{config_name}/seq_dec_{weight_epoch}.pt\", map_location=device))\n",
    "# seq_enc.load_state_dict(torch.load(f\"./weights/detail_eyes/seq_enc_{weight_epoch}.pt\", map_location=device))\n",
    "# seq_dec.load_state_dict(torch.load(f\"./weights/detail_eyes/seq_dec_{weight_epoch}.pt\", map_location=device))\n",
    "# seq_enc.load_state_dict(torch.load(f\"./weights/Qu/seq_enc_25000.pt\"))\n",
    "# seq_dec.load_state_dict(torch.load(f\"./weights/QuickDraw/seq_dec_25000.pt\"))\n",
    "seq_dec.training = False\n",
    "\n",
    "# pix_enc.to(device)\n",
    "# pix_dec.to(device)\n",
    "seq_dec.to(device)\n",
    "seq_enc.to(device)\n",
    "\n",
    "# pix_enc.eval()\n",
    "# pix_dec.eval()\n",
    "seq_dec.eval()\n",
    "seq_enc.eval()\n",
    "\n",
    "# device = config.device"
   ]
  },
  {
   "cell_type": "markdown",
   "metadata": {},
   "source": [
    "# Load DataLoader"
   ]
  },
  {
   "cell_type": "code",
   "execution_count": 18,
   "metadata": {},
   "outputs": [
    {
     "name": "stdout",
     "output_type": "stream",
     "text": [
      "Nmax: 69\n"
     ]
    }
   ],
   "source": [
    "# from data.dataloader import QMULLoader, QuickDrawLoader, Portra\n",
    "from data.custom_dataloader import PortraitDataset, QuickDrawDataset\n",
    "\n",
    "# dset = QMULLoader(config)\n",
    "dset = QuickDrawDataset(config)\n",
    "# dset = PortraitDataset(config)\n",
    "batch_size = 1\n",
    "loader = torch.utils.data.DataLoader(\n",
    "    dset,\n",
    "    shuffle=False,\n",
    "    batch_size=batch_size,\n",
    ")\n",
    "\n",
    "transform = transforms.Compose([\n",
    "    transforms.ToTensor(),\n",
    "    transforms.Resize((config[\"hypers\"][\"img_size\"], config[\"hypers\"][\"img_size\"])),\n",
    "    transforms.CenterCrop((config[\"hypers\"][\"img_crop\"], config[\"hypers\"][\"img_crop\"])),\n",
    "    transforms.Normalize([0.5, 0.5, 0.5], [0.5, 0.5, 0.5])\n",
    "])"
   ]
  },
  {
   "cell_type": "markdown",
   "metadata": {},
   "source": [
    "# sample"
   ]
  },
  {
   "cell_type": "code",
   "execution_count": 19,
   "metadata": {},
   "outputs": [],
   "source": [
    "from utils.draw import to_normal_strokes\n",
    "import random\n",
    "\n",
    "def sample_s2s(seq_enc, seq_dec, sketch, device, max_len=250, temperature=1.0, greedy_mode=False):\n",
    "    \"\"\"Samples a sequence from a pre-trained model.\"\"\"\n",
    "\n",
    "    def adjust_temp(pi_pdf, temp):\n",
    "        pi_pdf = np.log(pi_pdf) / temp\n",
    "        pi_pdf -= pi_pdf.max()\n",
    "        pi_pdf = np.exp(pi_pdf)\n",
    "        pi_pdf /= pi_pdf.sum()\n",
    "        return pi_pdf\n",
    "\n",
    "    def get_pi_idx(x, pdf, temp=1.0, greedy=False):\n",
    "        \"\"\"Samples from a pdf, optionally greedily.\"\"\"\n",
    "        if greedy:\n",
    "            return np.argmax(pdf)\n",
    "        pdf = adjust_temp(np.copy(pdf), temp)\n",
    "        accumulate = 0\n",
    "        for i in range(0, pdf.size):\n",
    "            accumulate += pdf[i]\n",
    "            if accumulate >= x:\n",
    "                return i\n",
    "        print('Error with sampling ensemble.')\n",
    "        return -1\n",
    "\n",
    "    def sample_gaussian_2d(mu1, mu2, s1, s2, rho, temp=1.0, greedy=False):\n",
    "        if greedy:\n",
    "            return mu1, mu2\n",
    "        mean = [mu1, mu2]\n",
    "        s1 *= temp * temp\n",
    "        s2 *= temp * temp\n",
    "        cov = [[s1 * s1, rho * s1 * s2], [rho * s1 * s2, s2 * s2]]\n",
    "        x = np.random.multivariate_normal(mean, cov, 1)\n",
    "        return x[0][0], x[0][1]\n",
    "\n",
    "    \n",
    "    # for sketch, length, images, target in loader:\n",
    "\n",
    "    sketch = torch.stack([sketch])\n",
    "\n",
    "    sketch = sketch.permute((1, 0, 2))\n",
    "    z, _, _ = seq_enc(sketch, batch_size)\n",
    "\n",
    "    s = Variable(torch.stack([torch.Tensor([0, 0, 1, 0, 0])]).to(device)).unsqueeze(0)\n",
    "    batch_init = torch.cat([s])\n",
    "    z_stack = torch.stack([z])\n",
    "    inputs = torch.cat([batch_init, z_stack], 2)\n",
    "\n",
    "    o_pi, o_mu1, o_mu2, o_sigma1, o_sigma2, o_corr, o_pen, hidden, cell = seq_dec(inputs, z, 1) # batch size is 1\n",
    "    pen_state = torch.argmax(o_pen)\n",
    "\n",
    "    greedy = greedy_mode\n",
    "    temp = temperature\n",
    "\n",
    "    strokes = []\n",
    "    iter = 0\n",
    "    while pen_state != 2 and iter < max_len:\n",
    "        iter += 1\n",
    "        o_pi, o_mu1, o_mu2, o_sigma1, o_sigma2, o_corr, o_pen, hidden, cell = seq_dec(inputs, z, 1, (hidden, cell))\n",
    "\n",
    "        # [o_pi, o_mu1, o_mu2, o_sigma1, o_sigma2, o_corr, o_pen, o_pen_logits] = gmm_coef\n",
    "        # top 6 param: [1, 20], o_pen: [1, 3], next_state: [1, 1024]\n",
    "\n",
    "        o_pi = o_pi.squeeze(0).detach().cpu().numpy()\n",
    "        o_mu1 = o_mu1.squeeze(0).detach().cpu().numpy()\n",
    "        o_mu2 = o_mu2.squeeze(0).detach().cpu().numpy()\n",
    "        o_sigma1 = o_sigma1.squeeze(0).detach().cpu().numpy()\n",
    "        o_sigma2 = o_sigma2.squeeze(0).detach().cpu().numpy()\n",
    "        o_corr = o_corr.squeeze(0).detach().cpu().numpy()\n",
    "        o_pen = o_pen.squeeze(0).detach().cpu().numpy()\n",
    "\n",
    "        idx = get_pi_idx(random.random(), o_pi[0], temp, greedy)\n",
    "        pen_state = get_pi_idx(random.random(), o_pen[0], temp, greedy)\n",
    "\n",
    "        eos = [0, 0, 0]\n",
    "        eos[pen_state] = 1\n",
    "        next_x1, next_x2 = sample_gaussian_2d(o_mu1[0][idx], o_mu2[0][idx],\n",
    "                                              o_sigma1[0][idx], o_sigma2[0][idx],\n",
    "                                              o_corr[0][idx], np.sqrt(temp), greedy)\n",
    "\n",
    "        strokes.append((next_x1, next_x2, eos[0], eos[1], eos[2]))\n",
    "        s[0, 0, 0] = next_x1\n",
    "        s[0, 0, 1] = next_x2\n",
    "        s[0, 0, 2:] = torch.eye(3)[pen_state] \n",
    "        inputs = torch.cat([s, z_stack], dim=2)\n",
    "\n",
    "    # strokes in stroke-5 format, strokes in stroke-3 format\n",
    "    return to_normal_strokes(np.array(strokes))"
   ]
  },
  {
   "cell_type": "code",
   "execution_count": 21,
   "metadata": {},
   "outputs": [
    {
     "name": "stdout",
     "output_type": "stream",
     "text": [
      "input\n",
      "M :48, L: 21\n"
     ]
    },
    {
     "data": {
      "image/svg+xml": "<svg xmlns=\"http://www.w3.org/2000/svg\" xmlns:ev=\"http://www.w3.org/2001/xml-events\" xmlns:xlink=\"http://www.w3.org/1999/xlink\" baseProfile=\"full\" height=\"104.26930971443653\" version=\"1.1\" width=\"185.9714573714882\"><defs/><rect fill=\"white\" height=\"104.26930971443653\" width=\"185.9714573714882\" x=\"0\" y=\"0\"/><path d=\"M57.80013152398169,26.789098186418414 l-10.138222575187683,-1.789098046720028 l-16.69824868440628,1.192732062190771 l-5.367294326424599,5.367294326424599 l0.0,4.17456217110157 l6.560026109218597,6.560026109218597 l17.89098083972931,4.770928248763084 l14.909151196479797,1.789098046720028 l30.41466772556305,-1.192732062190771 l0.5963660310953856,-8.945490419864655 l-8.34912434220314,-8.945490419864655 l-14.312784373760223,-4.17456217110157 m-16.69824868440628,-0.5963660310953856 l-29.818302392959595,11.927320808172226 l-1.789098046720028,7.156392186880112 l0.0,29.818302392959595 l1.789098046720028,2.9818302020430565 l4.17456217110157,1.192732062190771 l125.2368688583374,1.192732062190771 l2.9818302020430565,-2.9818302020430565 l1.192732062190771,-6.560026109218597 l0.5963660310953856,-21.469177305698395 l-17.89098083972931,-3.578196093440056 m-44.13108825683594,1.789098046720028 m0.0,0.0 m0.0,0.0 m0.0,0.0 m0.0,0.0 m0.0,0.0 m0.0,0.0 m0.0,0.0 m0.0,0.0 m0.0,0.0 m0.0,0.0 m0.0,0.0 m0.0,0.0 m0.0,0.0 m0.0,0.0 m0.0,0.0 m0.0,0.0 m0.0,0.0 m0.0,0.0 m0.0,0.0 m0.0,0.0 m0.0,0.0 m0.0,0.0 m0.0,0.0 m0.0,0.0 m0.0,0.0 m0.0,0.0 m0.0,0.0 m0.0,0.0 m0.0,0.0 m0.0,0.0 m0.0,0.0 m0.0,0.0 m0.0,0.0 m0.0,0.0 m0.0,0.0 m0.0,0.0 m0.0,0.0 m0.0,0.0 m0.0,0.0 m0.0,0.0 m0.0,0.0 m0.0,0.0 m0.0,0.0 m0.0,0.0 m0.0,0.0 m0.0,0.0 \" fill=\"none\" stroke=\"black\" stroke-width=\"1\"/></svg>",
      "text/plain": [
       "<IPython.core.display.SVG object>"
      ]
     },
     "metadata": {},
     "output_type": "display_data"
    },
    {
     "name": "stdout",
     "output_type": "stream",
     "text": [
      "output\n",
      "M :2, L: 21\n"
     ]
    },
    {
     "data": {
      "image/svg+xml": "<svg xmlns=\"http://www.w3.org/2000/svg\" xmlns:ev=\"http://www.w3.org/2001/xml-events\" xmlns:xlink=\"http://www.w3.org/1999/xlink\" baseProfile=\"full\" height=\"91.68450994864895\" version=\"1.1\" width=\"129.9641023401266\"><defs/><rect fill=\"white\" height=\"91.68450994864895\" width=\"129.9641023401266\" x=\"0\" y=\"0\"/><path d=\"M43.18988822781239,25 l-18.189888227812386,3.8963039575936502 l0.9117695536092708,4.114684589025933 l1.5457424106942457,8.63977250541683 l5.135671424558578,5.464027136358024 l23.76245931357038,8.008821218105028 l22.168342513596077,2.604011959932314 l15.313926169035097,1.142461528104686 l7.490933780668469,-1.5392116842772314 l3.635257174394488,-3.581885592200451 l-0.03406324864147542,3.497751780336041 l-5.669162676716459,3.599780098949564 l-20.29689417466827,5.829391842349393 l-2.6641860146234966,0.008600608955161128 l-4.20420435872837,-4.028920735491731 l-6.449330084794629,-14.224510840297452 l-5.687491938314311,-9.184062030007265 l-8.101409605733135,-2.910180961071309 m-13.611864654648995,0.03921742757745576 l20.028894804875062,7.03005672418769 l-0.7754693999525167,9.23303305582499 m2.1534389337991593,3.6598869212101848 l9.74137894256122,-12.147543574054739 l0.5779153945601724,10.091455011707922 \" fill=\"none\" stroke=\"black\" stroke-width=\"1\"/></svg>",
      "text/plain": [
       "<IPython.core.display.SVG object>"
      ]
     },
     "metadata": {},
     "output_type": "display_data"
    },
    {
     "name": "stdout",
     "output_type": "stream",
     "text": [
      "output\n",
      "M :1, L: 23\n"
     ]
    },
    {
     "data": {
      "image/svg+xml": "<svg xmlns=\"http://www.w3.org/2000/svg\" xmlns:ev=\"http://www.w3.org/2001/xml-events\" xmlns:xlink=\"http://www.w3.org/1999/xlink\" baseProfile=\"full\" height=\"93.76863907867218\" version=\"1.1\" width=\"133.88592651324709\"><defs/><rect fill=\"white\" height=\"93.76863907867218\" width=\"133.88592651324709\" x=\"0\" y=\"0\"/><path d=\"M46.260398900477284,32.46986838995451 l-21.260398900477288,4.373819138282944 l3.3283176728399586,3.8071896092510373 l3.389179544477623,7.445951182439725 l5.3617937576808,7.4667976560370315 l17.776124231536016,7.313671489775035 l23.96468813157032,4.060372425722477 l17.314729064069983,1.8309691872094114 l9.332217819992524,-1.0179436468683098 l2.5478615134322293,-2.2296551084219955 l0.8710147776476332,-8.335839109248875 l-4.337055322774341,-7.9940683153531715 l-10.94174501972319,-7.090495927745109 l-25.909556794574662,-7.125347210340628 m-13.03954794340031,-6.096703656447426 l-1.8349811243285343,7.7636433019826265 l0.4393824369636049,-3.3260758043010514 l5.608817463020799,-5.718097685601585 l5.410506151464389,-2.598055916326649 l1.234650420070403,1.9488048993412297 l-2.5496557187652145,6.851283654787479 l-7.855334773127606,4.272809768470092 l-8.103588126400938,-0.2169817669942162 l-3.110221452574593,-2.445041454224761 l2.0569287130429106,-0.02024096746051432 \" fill=\"none\" stroke=\"black\" stroke-width=\"1\"/></svg>",
      "text/plain": [
       "<IPython.core.display.SVG object>"
      ]
     },
     "metadata": {},
     "output_type": "display_data"
    },
    {
     "name": "stdout",
     "output_type": "stream",
     "text": [
      "output\n",
      "M :0, L: 22\n"
     ]
    },
    {
     "data": {
      "image/svg+xml": "<svg xmlns=\"http://www.w3.org/2000/svg\" xmlns:ev=\"http://www.w3.org/2001/xml-events\" xmlns:xlink=\"http://www.w3.org/1999/xlink\" baseProfile=\"full\" height=\"100.74969971492752\" version=\"1.1\" width=\"134.22386605133133\"><defs/><rect fill=\"white\" height=\"100.74969971492752\" width=\"134.22386605133133\" x=\"0\" y=\"0\"/><path d=\"M45.484457348063955,30.13071884565973 l-16.148350935174204,-0.01586802685033039 l-4.3361064128897535,13.056022036464828 l1.871825682271308,5.382682410121447 l10.770139654084307,2.0169288007029955 l26.925442199780957,1.7041864196176197 l14.549412406558876,6.1021514715412986 l14.84570418354299,8.847363133260233 l11.245950445011454,5.785126694567831 l2.7845039260393603,1.9363150039874235 l1.2308875540420707,0.8040729258544406 l-2.060381292627617,-0.8796653684962045 l-12.743011967909151,-5.205539872753348 l-35.12525460777339,-9.216058382018991 l-24.46775901649967,-10.449291995369293 l-2.3415206055128284,-2.69640161676417 l-0.8385781529760233,-6.678183172016885 l3.4482524098090472,-9.75559577482957 l2.8476683783456496,-3.290465041058873 l7.908059256898954,-2.5784984916201776 l4.242791102741393,4.947611871865863 l3.055682349379934,8.485360830730997 l-1.0081331794785433,6.601927302706305 \" fill=\"none\" stroke=\"black\" stroke-width=\"1\"/></svg>",
      "text/plain": [
       "<IPython.core.display.SVG object>"
      ]
     },
     "metadata": {},
     "output_type": "display_data"
    },
    {
     "name": "stdout",
     "output_type": "stream",
     "text": [
      "output\n",
      "M :1, L: 22\n"
     ]
    },
    {
     "data": {
      "image/svg+xml": "<svg xmlns=\"http://www.w3.org/2000/svg\" xmlns:ev=\"http://www.w3.org/2001/xml-events\" xmlns:xlink=\"http://www.w3.org/1999/xlink\" baseProfile=\"full\" height=\"90.45152114408135\" version=\"1.1\" width=\"141.0033899388111\"><defs/><rect fill=\"white\" height=\"90.45152114408135\" width=\"141.0033899388111\" x=\"0\" y=\"0\"/><path d=\"M45.57353911698109,27.996784081041103 l-19.986825711016056,3.581331725651768 l-0.5867134059650325,2.846771649189196 l3.026666176073309,14.10009781752263 l17.134201264482943,1.8483901300730157 l10.341176141154365,3.6043686316532653 l14.984168260225616,3.6365357674575236 l22.124095132855718,5.423594534747422 l21.664550982030473,1.289878252825138 l1.728531981988681,0.17035635612130326 l-5.2539454877194665,0.9534121977989968 l-9.727719917049285,-3.43248472144497 l-31.94787450633536,-4.454556597930615 l-30.90869803155332,-6.415057108048247 l-6.761908253286122,-6.174137890293564 l-2.569258433943796,-7.487077979696188 l0.46283055962505515,-9.523636780973177 m3.818987618202966,-2.964570065694598 l12.924619993758476,24.122468237593296 l0.5273272412315246,-1.0713895750511915 l-0.6957677913863258,3.165086737759799 l1.4254162668955426,1.321601261497923 l8.231052286365513,0.8713596555382918 l-0.14014837952466377,-1.1155050011803358 \" fill=\"none\" stroke=\"black\" stroke-width=\"1\"/></svg>",
      "text/plain": [
       "<IPython.core.display.SVG object>"
      ]
     },
     "metadata": {},
     "output_type": "display_data"
    },
    {
     "name": "stdout",
     "output_type": "stream",
     "text": [
      "output\n",
      "M :0, L: 21\n"
     ]
    },
    {
     "data": {
      "image/svg+xml": "<svg xmlns=\"http://www.w3.org/2000/svg\" xmlns:ev=\"http://www.w3.org/2001/xml-events\" xmlns:xlink=\"http://www.w3.org/1999/xlink\" baseProfile=\"full\" height=\"112.21346033245771\" version=\"1.1\" width=\"154.69056829706568\"><defs/><rect fill=\"white\" height=\"112.21346033245771\" width=\"154.69056829706568\" x=\"0\" y=\"0\"/><path d=\"M68.20112919322456,25 l-19.868094852953682,3.1394727869664707 l0.45929693266187777,2.094519547109844 l6.479274472964527,17.128225858281382 l4.394029332352013,1.5287785800453741 l13.538726563489018,-0.8515045725986455 l31.308517435153494,2.483207840614386 l22.451293191878452,4.0106570502418 l2.726396028295405,6.55731031835584 l-0.17467977504640497,9.078697909907492 l-2.520824590651598,6.813801975499957 l-4.963288003401013,4.37593534598554 l-9.380408372903007,3.5189226706356824 l-19.30535963120274,2.333922748534988 l-28.991786059850497,0.001512272877611407 l-18.086023777552224,-6.096812666795623 l-13.28568882363016,-7.779251622335348 l-5.193297021615797,-6.176229534386502 l-2.7892122412122187,-10.350887629150028 l3.0594642636649216,-12.817640183405834 l7.655678682102689,-12.91354162513523 l10.248096314778682,-5.250460636547493 \" fill=\"none\" stroke=\"black\" stroke-width=\"1\"/></svg>",
      "text/plain": [
       "<IPython.core.display.SVG object>"
      ]
     },
     "metadata": {},
     "output_type": "display_data"
    },
    {
     "name": "stdout",
     "output_type": "stream",
     "text": [
      "output\n",
      "M :2, L: 20\n"
     ]
    },
    {
     "data": {
      "image/svg+xml": "<svg xmlns=\"http://www.w3.org/2000/svg\" xmlns:ev=\"http://www.w3.org/2001/xml-events\" xmlns:xlink=\"http://www.w3.org/1999/xlink\" baseProfile=\"full\" height=\"93.82035607571493\" version=\"1.1\" width=\"142.3141121200498\"><defs/><rect fill=\"white\" height=\"93.82035607571493\" width=\"142.3141121200498\" x=\"0\" y=\"0\"/><path d=\"M46.363633869592405,30.51255080563385 l-15.56078281068701,2.771454027950736 l-5.802851058905392,6.6392143772527845 l1.2515908027768832,8.232942806420997 l17.55765294759031,4.677514644879878 l19.71369875790778,6.136407781370015 l11.203071768192432,0.0063874315057101195 l20.594580431355254,5.904057100606047 l11.16046862221153,2.416587584242115 l4.913892527184433,1.5084157381908072 l3.6770358849012275,0.014823777661982732 l2.242120377929971,-2.039465467373575 l-32.70784719967506,-6.006297519169892 l-46.846790031225304,-9.824573655679382 l0.7420171625584884,-11.463624389338952 l-1.5627125706574634,-11.278737992710731 l-0.22284888867952615,-2.924523812103826 l3.9643050640385527,-0.2831332393385663 l11.133451332021055,7.3182456391620185 l8.757283229614524,9.993494566388279 m7.042369132995321,4.605738612248281 l-7.907509740179283,-0.15570738535757855 m0.4770212677184771,-5.058108813452174 \" fill=\"none\" stroke=\"black\" stroke-width=\"1\"/></svg>",
      "text/plain": [
       "<IPython.core.display.SVG object>"
      ]
     },
     "metadata": {},
     "output_type": "display_data"
    },
    {
     "name": "stdout",
     "output_type": "stream",
     "text": [
      "output\n",
      "M :1, L: 22\n"
     ]
    },
    {
     "data": {
      "image/svg+xml": "<svg xmlns=\"http://www.w3.org/2000/svg\" xmlns:ev=\"http://www.w3.org/2001/xml-events\" xmlns:xlink=\"http://www.w3.org/1999/xlink\" baseProfile=\"full\" height=\"90.72170892710822\" version=\"1.1\" width=\"135.65791248244875\"><defs/><rect fill=\"white\" height=\"90.72170892710822\" width=\"135.65791248244875\" x=\"0\" y=\"0\"/><path d=\"M43.65928153535975,25 l-17.171658274014423,3.3336241395053783 l-1.4876232613453302,4.376500080115174 l1.313813654911491,10.242517766885598 l9.257187465056255,4.644122069581826 l24.168795485023175,4.560639701511642 l19.646755629743716,4.73346513867204 l11.314748876444067,2.096730065770129 l6.531677670865904,0.9874299426775862 l10.086420120797275,-2.273501354754132 l3.3385135796068637,-2.1302869598088887 l-4.389989560667399,3.5836757264611223 l-11.641138461565342,1.9987201984696645 l-30.13849508316975,0.3017221581204059 l-14.242332434456348,-3.355697897768158 l-11.373786956922576,-6.551911534932449 l-7.920947748660824,-6.373882184453465 l-1.9529778348116935,-7.1516610578180275 l0.6433882568067038,-9.05106740450259 m2.3552013918354735,-2.2879538913111834 l28.681853820455764,25.224929702313215 l1.2201569135670913,6.224670992408601 l7.7179195157125315,3.276038634174788 l29.156560785612502,4.312884895789955 \" fill=\"none\" stroke=\"black\" stroke-width=\"1\"/></svg>",
      "text/plain": [
       "<IPython.core.display.SVG object>"
      ]
     },
     "metadata": {},
     "output_type": "display_data"
    },
    {
     "name": "stdout",
     "output_type": "stream",
     "text": [
      "output\n",
      "M :4, L: 20\n"
     ]
    },
    {
     "data": {
      "image/svg+xml": "<svg xmlns=\"http://www.w3.org/2000/svg\" xmlns:ev=\"http://www.w3.org/2001/xml-events\" xmlns:xlink=\"http://www.w3.org/1999/xlink\" baseProfile=\"full\" height=\"115.05630873378483\" version=\"1.1\" width=\"143.74374170214207\"><defs/><rect fill=\"white\" height=\"115.05630873378483\" width=\"143.74374170214207\" x=\"0\" y=\"0\"/><path d=\"M47.32544803269595,51.664882990295425 l-13.80428428515211,5.288327858688882 l-8.521163747543843,4.5661310171778915 l0.7785223177274682,2.3085232919496024 l16.88898856847481,10.59091191959439 l26.61557506479737,8.74251206958748 l10.467177540890951,6.557451488897721 l6.946871235172007,0.33756809759343614 l13.17943469600396,-5.9354841129377744 l12.447797749673718,-10.288839680967527 l6.3545432691711445,-9.055942289675865 l0.06483126023063202,-10.564183598391274 l-5.045387405307271,-4.217816470321478 l-28.132963934907966,-1.7419700975140668 l-35.089051802711786,2.7620879728205288 l-8.48815349145572,0.8374433384478963 m-7.134367806706009,-3.416773263949275 l37.259594505907586,2.4061150896469807 m-4.721767340169225,-5.244609881987879 l-5.402765982328483,-5.222239220673826 m0.5363603808055207,-15.374096518281267 l7.673026331464396,20.485474557888377 l-0.1455312726664407,0.0028059560278467614 m1.4770125684319342,4.557342662078066 l2.3547184215440415,0.007206238388843147 \" fill=\"none\" stroke=\"black\" stroke-width=\"1\"/></svg>",
      "text/plain": [
       "<IPython.core.display.SVG object>"
      ]
     },
     "metadata": {},
     "output_type": "display_data"
    },
    {
     "name": "stdout",
     "output_type": "stream",
     "text": [
      "output\n",
      "M :2, L: 20\n"
     ]
    },
    {
     "data": {
      "image/svg+xml": "<svg xmlns=\"http://www.w3.org/2000/svg\" xmlns:ev=\"http://www.w3.org/2001/xml-events\" xmlns:xlink=\"http://www.w3.org/1999/xlink\" baseProfile=\"full\" height=\"92.04357050402824\" version=\"1.1\" width=\"156.40113597269527\"><defs/><rect fill=\"white\" height=\"92.04357050402824\" width=\"156.40113597269527\" x=\"0\" y=\"0\"/><path d=\"M49.72208092547851,25 l-5.371327618382642,2.918293116369794 l-17.945724683184753,8.585252050148068 l-1.4050286239111123,2.2821105142718583 l2.78487378468274,9.910671647512654 l66.92910577664355,5.3198158801855815 l2.699723137091916,2.5034187894806 l-2.20320888197357,-0.9312150717015528 l-0.6783255543787758,2.477267428667076 l-1.3352300015412748,1.909173091691817 l18.84093044652151,7.035687864492146 l6.933551406903305,0.033095192910193375 l5.731197710840555,-3.062308430039687 l6.657856758716631,-8.164776161283186 l0.04066138918866945,-20.493861409624877 l-10.75846211261202,-3.8594446921238674 l-32.45076212648629,-2.927063718988193 l-18.878374872578814,4.215270792508057 m-21.26177944568865,0.38451395726196747 l32.60116179014491,10.957501609259387 l-1.108700702080474,1.3515305018113488 m-1.044109938356014,9.259778801827547 l16.92819566111123,-8.886565675376579 \" fill=\"none\" stroke=\"black\" stroke-width=\"1\"/></svg>",
      "text/plain": [
       "<IPython.core.display.SVG object>"
      ]
     },
     "metadata": {},
     "output_type": "display_data"
    },
    {
     "name": "stdout",
     "output_type": "stream",
     "text": [
      "output\n",
      "M :4, L: 20\n"
     ]
    },
    {
     "data": {
      "image/svg+xml": "<svg xmlns=\"http://www.w3.org/2000/svg\" xmlns:ev=\"http://www.w3.org/2001/xml-events\" xmlns:xlink=\"http://www.w3.org/1999/xlink\" baseProfile=\"full\" height=\"140.82706773171716\" version=\"1.1\" width=\"152.59783168987292\"><defs/><rect fill=\"white\" height=\"140.82706773171716\" width=\"152.59783168987292\" x=\"0\" y=\"0\"/><path d=\"M46.86740772913937,70.13830589577165 l-21.86740772913937,-0.01617904779453802 l1.1604060148881357,10.693325290453446 l5.045847024286186,10.865767280791566 l6.763277185586944,0.3442404679864917 m24.251857444247747,-5.82170846481458 l-16.95340475256889,-15.519849671643682 l64.76189598338043,45.143165980966806 l10.59235510287763,-2.233171395206454 l5.098397975206332,-2.970904067158958 l0.9757355062730353,-8.54315947121306 l0.9014642056953917,-17.953590144207595 l-45.79606261410628,-14.486667497884353 m-14.459978570114215,-7.477891585609922 l-35.10921459563628,-2.7020482258032414 l-2.1603282086483646,-5.529350620792784 m-4.309467468979338,-28.93028472384079 l25.802118193280158,41.856474972115684 l-4.40996656721039,1.339129554937332 m-0.16082191453539432,-3.01450654104386 l16.58698612990085,-10.644745166368633 l-1.564151654783626,-1.0578560936760815 l-9.263918573805675,0.013831456006180801 l-8.586732940772276,8.829669586874767 l-0.9787769483835161,11.37750594557414 \" fill=\"none\" stroke=\"black\" stroke-width=\"1\"/></svg>",
      "text/plain": [
       "<IPython.core.display.SVG object>"
      ]
     },
     "metadata": {},
     "output_type": "display_data"
    }
   ],
   "source": [
    "# sketch, length, (mask, dx, dy, p) = dset.__getitem__(np.random.randint(0, 1000))\n",
    "\n",
    "sketch_idx = 0\n",
    "\n",
    "sketch, length, (mask, dx, dy, p) = dset.__getitem__(sketch_idx)\n",
    "sketch_ = sketch[:, :3]\n",
    "sketch_[:, 2] = 1 - sketch_[:, 2]\n",
    "\n",
    "import os\n",
    "if not os.path.isdir(f\"{sketch_idx}\"):\n",
    "    os.mkdir(f\"{sketch_idx}\")\n",
    "\n",
    "print(\"input\")\n",
    "draw_strokes(sketch_, factor=0.04, svg_filename=f\"./{sketch_idx}/input.svg\")\n",
    "\n",
    "temps = [1, 2, 3, 4, 5, 6, 7, 8, 9, 10]\n",
    "for t in temps:\n",
    "    Nmax = dset.Nmax\n",
    "    sample_draw = sample_s2s(seq_enc, seq_dec, sketch, device, max_len=Nmax, temperature=0.1 * t)\n",
    "\n",
    "    print(\"output\")\n",
    "    draw_strokes(sample_draw, factor=0.04, svg_filename=f\"./{sketch_idx}/{t}.svg\")"
   ]
  },
  {
   "cell_type": "code",
   "execution_count": null,
   "metadata": {},
   "outputs": [],
   "source": [
    "\"\"\"\n",
    "To check whether data is properly prepared\n",
    "\n",
    "\"\"\"\n",
    "\n",
    "samples = range(0, 2001, 100)\n",
    "\n",
    "for s in samples:\n",
    "    sketch, length, _, (mask, dx, dy, p) = dset.__getitem__(s)\n",
    "    sketch_ = sketch[:, :3]\n",
    "    sketch_[:, 2] = 1 - sketch_[:, 2]\n",
    "\n",
    "    import os\n",
    "    if not os.path.isdir(f\"{sketch_idx}\"):\n",
    "        os.mkdir(f\"{sketch_idx}\")\n",
    "\n",
    "    draw_strokes(sketch_, factor=0.05, svg_filename=f\"./{sketch_idx}/input.svg\")"
   ]
  },
  {
   "cell_type": "code",
   "execution_count": null,
   "metadata": {},
   "outputs": [],
   "source": []
  }
 ],
 "metadata": {
  "kernelspec": {
   "display_name": "pytorch1_10",
   "language": "python",
   "name": "python3"
  },
  "language_info": {
   "codemirror_mode": {
    "name": "ipython",
    "version": 3
   },
   "file_extension": ".py",
   "mimetype": "text/x-python",
   "name": "python",
   "nbconvert_exporter": "python",
   "pygments_lexer": "ipython3",
   "version": "3.9.12 (main, Jun  1 2022, 11:38:51) \n[GCC 7.5.0]"
  },
  "orig_nbformat": 4,
  "vscode": {
   "interpreter": {
    "hash": "c7d040836cb1260f3ffcbdbbbf77afb47ba56f677b0df25ad5576ef915633269"
   }
  }
 },
 "nbformat": 4,
 "nbformat_minor": 2
}
